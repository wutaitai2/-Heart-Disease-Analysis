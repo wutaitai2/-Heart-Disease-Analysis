{
 "cells": [
  {
   "cell_type": "markdown",
   "metadata": {},
   "source": [
    "<h2> Cleaning and Prep: Converting a csv dataset to a sqlite database and pandas dataframe </h2>"
   ]
  },
  {
   "cell_type": "markdown",
   "metadata": {},
   "source": [
    "<h3> Imports </h3>\n",
    "<h5> Make sure sqlalchemy and pandas are installed on your environment </h5>"
   ]
  },
  {
   "cell_type": "code",
   "execution_count": 1,
   "metadata": {},
   "outputs": [],
   "source": [
    "import csv\n",
    "import sqlalchemy as db\n",
    "import sqlalchemy.orm as orm\n",
    "import pandas as pd"
   ]
  },
  {
   "cell_type": "markdown",
   "metadata": {},
   "source": [
    "<h3> Establishing connection and making database </h3>"
   ]
  },
  {
   "cell_type": "code",
   "execution_count": 2,
   "metadata": {},
   "outputs": [],
   "source": [
    "url = \"sqlite:///./heart_data.db\"\n",
    "engine = db.create_engine(url)\n",
    "conn = engine.connect()\n",
    "session = orm.Session(engine)\n",
    "Base = orm.declarative_base()"
   ]
  },
  {
   "cell_type": "markdown",
   "metadata": {},
   "source": [
    "<h3> Reading .csv file to a dataframe and prepping a list of rows for entry to sqlite table </h3>"
   ]
  },
  {
   "cell_type": "code",
   "execution_count": 3,
   "metadata": {},
   "outputs": [
    {
     "name": "stdout",
     "output_type": "stream",
     "text": [
      "{'HeartDisease': 'No', 'BMI': '16.6', 'Smoking': 'Yes', 'AlcoholDrinking': 'No', 'Stroke': 'No', 'PhysicalHealth': '3.0', 'MentalHealth': '30.0', 'DiffWalking': 'No', 'Sex': 'Female', 'AgeCategory': '55-59', 'Race': 'White', 'Diabetic': 'Yes', 'PhysicalActivity': 'Yes', 'GenHealth': 'Very good', 'SleepTime': '5.0', 'Asthma': 'Yes', 'KidneyDisease': 'No', 'SkinCancer': 'Yes'}\n"
     ]
    }
   ],
   "source": [
    "main_df = pd.read_csv('heart_2020_cleaned.csv')\n",
    "\n",
    "patients = []\n",
    "csv_reader = csv.DictReader(open('heart_2020_cleaned.csv'))\n",
    "for row in csv_reader:\n",
    "    patients.append(row)"
   ]
  },
  {
   "cell_type": "markdown",
   "metadata": {},
   "source": [
    "<h3> Making a patient table in sqlalchemy and adding patients to sqlite database </h3>"
   ]
  },
  {
   "cell_type": "code",
   "execution_count": 4,
   "metadata": {},
   "outputs": [],
   "source": [
    "class Patient(Base):\n",
    "    __tablename__ = 'patient'\n",
    "\n",
    "    patient_id = db.Column('patient_id', db.Integer, primary_key=True)\n",
    "    HeartDisease = db.Column('HeartDisease', db.String(5))\n",
    "    BMI = db.Column('BMI', db.Float)\n",
    "    Smoking = db.Column('Smoking', db.String(5))\n",
    "    alcohol_drinking = db.Column('AlcoholDrinking', db.String(5))\n",
    "    stroke = db.Column('Stroke', db.String(5))\n",
    "    physical_health = db.Column('PhysicalHealth', db.Float)\n",
    "    mental_health = db.Column('MentalHealth', db.Float)\n",
    "    diff_walking = db.Column('DiffWalking', db.String(5))\n",
    "    sex = db.Column('Sex', db.String(20))\n",
    "    age_category = db.Column('AgeCategory', db.String(20))\n",
    "    race = db.Column('Race', db.String(20))\n",
    "    diabetic = db.Column('Diabetic', db.String(40))\n",
    "    physical_activity = db.Column('PhysicalActivity', db.String(5))\n",
    "    gen_health = db.Column('GenHealth', db.String(20))\n",
    "    sleep_time = db.Column('SleepTime', db.Float)\n",
    "    asthma = db.Column('Asthma', db.String(5))\n",
    "    kidney_disease = db.Column('KidneyDisease', db.String(5))\n",
    "    skin_cancer = db.Column('SkinCancer', db.String(5))\n",
    "\n",
    "Base.metadata.create_all(engine)\n"
   ]
  },
  {
   "cell_type": "code",
   "execution_count": 5,
   "metadata": {},
   "outputs": [
    {
     "data": {
      "text/plain": [
       "<sqlalchemy.engine.cursor.LegacyCursorResult at 0x1fde33164f0>"
      ]
     },
     "execution_count": 5,
     "metadata": {},
     "output_type": "execute_result"
    }
   ],
   "source": [
    "stmt = db.insert(Patient)\n",
    "conn.execute(stmt, patients)"
   ]
  }
 ],
 "metadata": {
  "kernelspec": {
   "display_name": "Python 3.9.12 ('week_5_env': venv)",
   "language": "python",
   "name": "python3"
  },
  "language_info": {
   "codemirror_mode": {
    "name": "ipython",
    "version": 3
   },
   "file_extension": ".py",
   "mimetype": "text/x-python",
   "name": "python",
   "nbconvert_exporter": "python",
   "pygments_lexer": "ipython3",
   "version": "3.9.12"
  },
  "orig_nbformat": 4,
  "vscode": {
   "interpreter": {
    "hash": "88718a02dceb9fb466e2b0e16efd4a72d2f99fff7d5dd74304ace5c41f7c62a9"
   }
  }
 },
 "nbformat": 4,
 "nbformat_minor": 2
}
